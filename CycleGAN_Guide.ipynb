{
  "nbformat": 4,
  "nbformat_minor": 0,
  "metadata": {
    "colab": {
      "provenance": [],
      "gpuType": "T4"
    },
    "kernelspec": {
      "name": "python3",
      "display_name": "Python 3"
    },
    "language_info": {
      "name": "python"
    },
    "accelerator": "GPU"
  },
  "cells": [
    {
      "cell_type": "markdown",
      "source": [
        "### **Initial Code Set Up**"
      ],
      "metadata": {
        "id": "pmI9Noy8tEmz"
      }
    },
    {
      "cell_type": "markdown",
      "source": [
        "*1. Mount to google drive*"
      ],
      "metadata": {
        "id": "6N8EuLFIuKAG"
      }
    },
    {
      "cell_type": "code",
      "source": [
        "from google.colab import drive\n",
        "drive.mount('/content/drive')\n"
      ],
      "metadata": {
        "collapsed": true,
        "id": "K1Rfzhpmuspg"
      },
      "execution_count": 2,
      "outputs": []
    },
    {
      "cell_type": "code",
      "source": [
        "%cd /content/drive/MyDrive"
      ],
      "metadata": {
        "id": "-80j0ogpvvlZ"
      },
      "execution_count": null,
      "outputs": []
    },
    {
      "cell_type": "markdown",
      "source": [
        "*2. Downlod Github Codebase*\n"
      ],
      "metadata": {
        "id": "4fwKGYXVvJu3"
      }
    },
    {
      "cell_type": "code",
      "source": [
        "!git clone https://github.com/SnehamayRoy/Image-Enhancement-using-CycleGAN.git"
      ],
      "metadata": {
        "colab": {
          "base_uri": "https://localhost:8080/"
        },
        "id": "VqJ6HfJ0wZfM",
        "outputId": "0471bfb9-5f0c-49ed-95cd-d2ef2c613078"
      },
      "execution_count": 1,
      "outputs": [
        {
          "output_type": "stream",
          "name": "stdout",
          "text": [
            "Cloning into 'Image-Enhancement-using-CycleGAN'...\n",
            "remote: Enumerating objects: 130, done.\u001b[K\n",
            "remote: Counting objects: 100% (130/130), done.\u001b[K\n",
            "remote: Compressing objects: 100% (106/106), done.\u001b[K\n",
            "remote: Total 130 (delta 31), reused 101 (delta 12), pack-reused 0 (from 0)\u001b[K\n",
            "Receiving objects: 100% (130/130), 18.28 MiB | 11.67 MiB/s, done.\n",
            "Resolving deltas: 100% (31/31), done.\n"
          ]
        }
      ]
    },
    {
      "cell_type": "markdown",
      "source": [
        "*3. Download Dataset*"
      ],
      "metadata": {
        "id": "_PjduNsuygME"
      }
    },
    {
      "cell_type": "code",
      "source": [
        "!kaggle datasets download -d jesucristo/mit-5k-basic ## Oficial released dataset(5000 images)"
      ],
      "metadata": {
        "id": "K3yZGWFfyokI"
      },
      "execution_count": null,
      "outputs": []
    },
    {
      "cell_type": "code",
      "source": [
        "!unzip mit-5k-basic.zip"
      ],
      "metadata": {
        "id": "zHRYP4MPyttp"
      },
      "execution_count": null,
      "outputs": []
    },
    {
      "cell_type": "code",
      "source": [
        "!kaggle datasets download -d snehamayroy/cyclegan ## My dataset setup, used for training(1500 images)"
      ],
      "metadata": {
        "colab": {
          "base_uri": "https://localhost:8080/"
        },
        "id": "LfKBurGY0sNf",
        "outputId": "f2edfffd-649b-46e7-d86d-b2a55fa944c0"
      },
      "execution_count": 2,
      "outputs": [
        {
          "output_type": "stream",
          "name": "stdout",
          "text": [
            "Dataset URL: https://www.kaggle.com/datasets/snehamayroy/cyclegan\n",
            "License(s): other\n",
            "Downloading cyclegan.zip to /content\n",
            " 98% 32.0M/32.7M [00:03<00:00, 13.9MB/s]\n",
            "100% 32.7M/32.7M [00:03<00:00, 11.1MB/s]\n"
          ]
        }
      ]
    },
    {
      "cell_type": "code",
      "source": [
        "!unzip cyclegan.zip"
      ],
      "metadata": {
        "id": "rSbs6AKY0x-N"
      },
      "execution_count": null,
      "outputs": []
    },
    {
      "cell_type": "markdown",
      "source": [
        "###**Training**"
      ],
      "metadata": {
        "id": "ovMBPyQzy8ur"
      }
    },
    {
      "cell_type": "markdown",
      "source": [
        "*1. Set up the code base*\n",
        "\n",
        "*2. Change the directory to the codebase folder*\n",
        "\n",
        "*3. PLace the dataset properly .*"
      ],
      "metadata": {
        "id": "hMtbgmnlzYRa"
      }
    },
    {
      "cell_type": "code",
      "source": [
        "%cd /content/drive/MyDrive/Image-Enhancement-using-CycleGAN"
      ],
      "metadata": {
        "colab": {
          "base_uri": "https://localhost:8080/"
        },
        "id": "xbq52mNG1iGO",
        "outputId": "2f7efb6a-bfb6-4363-9ea8-631a90a01215"
      },
      "execution_count": 4,
      "outputs": [
        {
          "output_type": "stream",
          "name": "stdout",
          "text": [
            "[Errno 2] No such file or directory: '/content/drive/MyDrive/Image-Enhancement-using-CycleGAN'\n",
            "/content\n"
          ]
        }
      ]
    },
    {
      "cell_type": "code",
      "source": [
        "%cd /content/Image-Enhancement-using-CycleGAN"
      ],
      "metadata": {
        "colab": {
          "base_uri": "https://localhost:8080/"
        },
        "id": "sHD-cceG9xs1",
        "outputId": "cf04dda2-2929-4d19-abe3-d56fba640758"
      },
      "execution_count": 5,
      "outputs": [
        {
          "output_type": "stream",
          "name": "stdout",
          "text": [
            "/content/Image-Enhancement-using-CycleGAN\n"
          ]
        }
      ]
    },
    {
      "cell_type": "code",
      "source": [
        "%ls"
      ],
      "metadata": {
        "colab": {
          "base_uri": "https://localhost:8080/"
        },
        "id": "5IyvKSRZ1kql",
        "outputId": "7edf0bbd-c84f-44bc-892d-002eaf1b439d"
      },
      "execution_count": 14,
      "outputs": [
        {
          "output_type": "stream",
          "name": "stdout",
          "text": [
            "config.py                    dataset.py              \u001b[0m\u001b[01;34m__pycache__\u001b[0m/   test.py\n",
            "CycleGAN_for_Testing.ipynb   discriminator_model.py  README.md      \u001b[01;34mtest_results\u001b[0m/\n",
            "CycleGAN_for_Training.ipynb  generator_model.py      \u001b[01;34mruns\u001b[0m/          train.py\n",
            "\u001b[01;34mdata\u001b[0m/                        \u001b[01;34mMetrics\u001b[0m/                \u001b[01;34msaved_images\u001b[0m/  utils.py\n"
          ]
        }
      ]
    },
    {
      "cell_type": "markdown",
      "source": [
        "*4. Update albumentations*"
      ],
      "metadata": {
        "id": "ZtgnwcIA1pSE"
      }
    },
    {
      "cell_type": "code",
      "source": [
        "!pip install -U albumentations"
      ],
      "metadata": {
        "colab": {
          "base_uri": "https://localhost:8080/"
        },
        "id": "wBGLnlGN1x0D",
        "outputId": "20eddc40-d4fe-4c3c-c1bf-bcfe70294fe3"
      },
      "execution_count": 7,
      "outputs": [
        {
          "output_type": "stream",
          "name": "stdout",
          "text": [
            "Requirement already satisfied: albumentations in /usr/local/lib/python3.10/dist-packages (1.4.15)\n",
            "Collecting albumentations\n",
            "  Downloading albumentations-1.4.18-py3-none-any.whl.metadata (32 kB)\n",
            "Requirement already satisfied: numpy>=1.24.4 in /usr/local/lib/python3.10/dist-packages (from albumentations) (1.26.4)\n",
            "Requirement already satisfied: scipy>=1.10.0 in /usr/local/lib/python3.10/dist-packages (from albumentations) (1.13.1)\n",
            "Requirement already satisfied: scikit-image>=0.21.0 in /usr/local/lib/python3.10/dist-packages (from albumentations) (0.24.0)\n",
            "Requirement already satisfied: PyYAML in /usr/local/lib/python3.10/dist-packages (from albumentations) (6.0.2)\n",
            "Requirement already satisfied: pydantic>=2.7.0 in /usr/local/lib/python3.10/dist-packages (from albumentations) (2.9.2)\n",
            "Collecting albucore==0.0.17 (from albumentations)\n",
            "  Downloading albucore-0.0.17-py3-none-any.whl.metadata (3.1 kB)\n",
            "Requirement already satisfied: eval-type-backport in /usr/local/lib/python3.10/dist-packages (from albumentations) (0.2.0)\n",
            "Requirement already satisfied: opencv-python-headless>=4.9.0.80 in /usr/local/lib/python3.10/dist-packages (from albumentations) (4.10.0.84)\n",
            "Requirement already satisfied: annotated-types>=0.6.0 in /usr/local/lib/python3.10/dist-packages (from pydantic>=2.7.0->albumentations) (0.7.0)\n",
            "Requirement already satisfied: pydantic-core==2.23.4 in /usr/local/lib/python3.10/dist-packages (from pydantic>=2.7.0->albumentations) (2.23.4)\n",
            "Requirement already satisfied: typing-extensions>=4.6.1 in /usr/local/lib/python3.10/dist-packages (from pydantic>=2.7.0->albumentations) (4.12.2)\n",
            "Requirement already satisfied: networkx>=2.8 in /usr/local/lib/python3.10/dist-packages (from scikit-image>=0.21.0->albumentations) (3.4.1)\n",
            "Requirement already satisfied: pillow>=9.1 in /usr/local/lib/python3.10/dist-packages (from scikit-image>=0.21.0->albumentations) (10.4.0)\n",
            "Requirement already satisfied: imageio>=2.33 in /usr/local/lib/python3.10/dist-packages (from scikit-image>=0.21.0->albumentations) (2.35.1)\n",
            "Requirement already satisfied: tifffile>=2022.8.12 in /usr/local/lib/python3.10/dist-packages (from scikit-image>=0.21.0->albumentations) (2024.9.20)\n",
            "Requirement already satisfied: packaging>=21 in /usr/local/lib/python3.10/dist-packages (from scikit-image>=0.21.0->albumentations) (24.1)\n",
            "Requirement already satisfied: lazy-loader>=0.4 in /usr/local/lib/python3.10/dist-packages (from scikit-image>=0.21.0->albumentations) (0.4)\n",
            "Downloading albumentations-1.4.18-py3-none-any.whl (224 kB)\n",
            "\u001b[2K   \u001b[90m━━━━━━━━━━━━━━━━━━━━━━━━━━━━━━━━━━━━━━━━\u001b[0m \u001b[32m224.0/224.0 kB\u001b[0m \u001b[31m6.9 MB/s\u001b[0m eta \u001b[36m0:00:00\u001b[0m\n",
            "\u001b[?25hDownloading albucore-0.0.17-py3-none-any.whl (10 kB)\n",
            "Installing collected packages: albucore, albumentations\n",
            "  Attempting uninstall: albucore\n",
            "    Found existing installation: albucore 0.0.16\n",
            "    Uninstalling albucore-0.0.16:\n",
            "      Successfully uninstalled albucore-0.0.16\n",
            "  Attempting uninstall: albumentations\n",
            "    Found existing installation: albumentations 1.4.15\n",
            "    Uninstalling albumentations-1.4.15:\n",
            "      Successfully uninstalled albumentations-1.4.15\n",
            "Successfully installed albucore-0.0.17 albumentations-1.4.18\n"
          ]
        }
      ]
    },
    {
      "cell_type": "markdown",
      "source": [
        "*5. Check GPU availability*"
      ],
      "metadata": {
        "id": "0OOke_Lv1z-U"
      }
    },
    {
      "cell_type": "code",
      "source": [
        "import torch\n",
        "torch.cuda.is_available()"
      ],
      "metadata": {
        "colab": {
          "base_uri": "https://localhost:8080/"
        },
        "id": "Uhx_h5ye16g1",
        "outputId": "7a7312a4-93c4-4001-df49-7db35a517ebf"
      },
      "execution_count": 8,
      "outputs": [
        {
          "output_type": "execute_result",
          "data": {
            "text/plain": [
              "True"
            ]
          },
          "metadata": {},
          "execution_count": 8
        }
      ]
    },
    {
      "cell_type": "markdown",
      "source": [
        "*6. Start training*"
      ],
      "metadata": {
        "id": "vWElJh392W0e"
      }
    },
    {
      "cell_type": "code",
      "source": [
        "!python train.py"
      ],
      "metadata": {
        "colab": {
          "base_uri": "https://localhost:8080/"
        },
        "collapsed": true,
        "id": "dLHekGy22hgZ",
        "outputId": "6429c673-adf8-4757-9c0e-4064527b3c68"
      },
      "execution_count": 9,
      "outputs": [
        {
          "output_type": "stream",
          "name": "stdout",
          "text": [
            "2024-10-18 18:52:16.265880: E external/local_xla/xla/stream_executor/cuda/cuda_fft.cc:485] Unable to register cuFFT factory: Attempting to register factory for plugin cuFFT when one has already been registered\n",
            "2024-10-18 18:52:16.286560: E external/local_xla/xla/stream_executor/cuda/cuda_dnn.cc:8454] Unable to register cuDNN factory: Attempting to register factory for plugin cuDNN when one has already been registered\n",
            "2024-10-18 18:52:16.292650: E external/local_xla/xla/stream_executor/cuda/cuda_blas.cc:1452] Unable to register cuBLAS factory: Attempting to register factory for plugin cuBLAS when one has already been registered\n",
            "2024-10-18 18:52:16.308702: I tensorflow/core/platform/cpu_feature_guard.cc:210] This TensorFlow binary is optimized to use available CPU instructions in performance-critical operations.\n",
            "To enable the following instructions: AVX2 FMA, in other operations, rebuild TensorFlow with the appropriate compiler flags.\n",
            "2024-10-18 18:52:17.535578: W tensorflow/compiler/tf2tensorrt/utils/py_utils.cc:38] TF-TRT Warning: Could not find TensorRT\n",
            "100% 1500/1500 [05:36<00:00,  4.45it/s, H_fake=0.423, H_real=0.574]\n",
            "=> Saving checkpoint\n",
            "=> Saving checkpoint\n",
            "=> Saving checkpoint\n",
            "=> Saving checkpoint\n",
            " 12% 181/1500 [00:41<05:05,  4.32it/s, H_fake=0.412, H_real=0.578]\n",
            "Traceback (most recent call last):\n",
            "  File \"/content/Image-Enhancement-using-CycleGAN/train.py\", line 201, in <module>\n",
            "    main()\n",
            "  File \"/content/Image-Enhancement-using-CycleGAN/train.py\", line 178, in main\n",
            "    train_fn(\n",
            "  File \"/content/Image-Enhancement-using-CycleGAN/train.py\", line 88, in train_fn\n",
            "    g_scaler.step(opt_gen)\n",
            "  File \"/usr/local/lib/python3.10/dist-packages/torch/amp/grad_scaler.py\", line 454, in step\n",
            "    retval = self._maybe_opt_step(optimizer, optimizer_state, *args, **kwargs)\n",
            "  File \"/usr/local/lib/python3.10/dist-packages/torch/amp/grad_scaler.py\", line 351, in _maybe_opt_step\n",
            "    if not sum(v.item() for v in optimizer_state[\"found_inf_per_device\"].values()):\n",
            "  File \"/usr/local/lib/python3.10/dist-packages/torch/amp/grad_scaler.py\", line 351, in <genexpr>\n",
            "    if not sum(v.item() for v in optimizer_state[\"found_inf_per_device\"].values()):\n",
            "KeyboardInterrupt\n"
          ]
        }
      ]
    },
    {
      "cell_type": "markdown",
      "source": [
        "### **Visualization of Losses**"
      ],
      "metadata": {
        "id": "BoOEQQP3AYYs"
      }
    },
    {
      "cell_type": "code",
      "source": [
        "%reload_ext tensorboard"
      ],
      "metadata": {
        "colab": {
          "base_uri": "https://localhost:8080/"
        },
        "id": "cgU4tnOq_y8O",
        "outputId": "8955a439-3e9e-4f40-c8ba-dd9231df6576"
      },
      "execution_count": 13,
      "outputs": [
        {
          "output_type": "stream",
          "name": "stdout",
          "text": [
            "The tensorboard extension is already loaded. To reload it, use:\n",
            "  %reload_ext tensorboard\n"
          ]
        }
      ]
    },
    {
      "cell_type": "code",
      "source": [
        "%tensorboard --logdir runs --port 5005"
      ],
      "metadata": {
        "id": "5RZSO8IV_8qU"
      },
      "execution_count": null,
      "outputs": []
    },
    {
      "cell_type": "markdown",
      "source": [
        "### **Download Pretrained Models(Trained for 120 epoch with residual block =15)**\n"
      ],
      "metadata": {
        "id": "oEiOJKN425_w"
      }
    },
    {
      "cell_type": "markdown",
      "source": [
        "*1. Discriminator 1*"
      ],
      "metadata": {
        "id": "r5jUWhf948ft"
      }
    },
    {
      "cell_type": "code",
      "source": [
        "!gdown --fuzzy https://drive.google.com/file/d/1mWM4sJEwQKtxYrAdvccJgc4yUYrbfkoI/view?usp=drive_link"
      ],
      "metadata": {
        "colab": {
          "base_uri": "https://localhost:8080/"
        },
        "id": "purQxegy3fHa",
        "outputId": "ae70c6be-30f6-4393-c9f1-fece338a61ce"
      },
      "execution_count": 15,
      "outputs": [
        {
          "output_type": "stream",
          "name": "stdout",
          "text": [
            "Downloading...\n",
            "From: https://drive.google.com/uc?id=1mWM4sJEwQKtxYrAdvccJgc4yUYrbfkoI\n",
            "To: /content/Image-Enhancement-using-CycleGAN/critich.pth.tar\n",
            "100% 55.3M/55.3M [00:01<00:00, 53.8MB/s]\n"
          ]
        }
      ]
    },
    {
      "cell_type": "markdown",
      "source": [
        "*2. Discriminator 2*"
      ],
      "metadata": {
        "id": "Lg47MK5R5RsX"
      }
    },
    {
      "cell_type": "code",
      "source": [
        "!gdown --fuzzy https://drive.google.com/file/d/1CZtLa5yT6NknMR5qSyneBtGOYNBQeCnW/view?usp=sharing"
      ],
      "metadata": {
        "colab": {
          "base_uri": "https://localhost:8080/"
        },
        "id": "3e0bZ2kB4mEs",
        "outputId": "48d270a7-bfb8-4778-e1da-1a55957ab7a4"
      },
      "execution_count": 16,
      "outputs": [
        {
          "output_type": "stream",
          "name": "stdout",
          "text": [
            "Downloading...\n",
            "From: https://drive.google.com/uc?id=1CZtLa5yT6NknMR5qSyneBtGOYNBQeCnW\n",
            "To: /content/Image-Enhancement-using-CycleGAN/criticz.pth.tar\n",
            "100% 55.3M/55.3M [00:00<00:00, 55.6MB/s]\n"
          ]
        }
      ]
    },
    {
      "cell_type": "markdown",
      "source": [
        "*3. Generator 1*"
      ],
      "metadata": {
        "id": "EieT54Hv5Qox"
      }
    },
    {
      "cell_type": "code",
      "source": [
        "!gdown --fuzzy https://drive.google.com/file/d/19h89vC7wAcj41VjQ5qH9u25ChHWCWsER/view?usp=sharing"
      ],
      "metadata": {
        "colab": {
          "base_uri": "https://localhost:8080/"
        },
        "id": "LQABVbkk4oUs",
        "outputId": "2ac69138-1da0-4d95-ac4d-1e702ace84bb"
      },
      "execution_count": 17,
      "outputs": [
        {
          "output_type": "stream",
          "name": "stdout",
          "text": [
            "Downloading...\n",
            "From (original): https://drive.google.com/uc?id=19h89vC7wAcj41VjQ5qH9u25ChHWCWsER\n",
            "From (redirected): https://drive.google.com/uc?id=19h89vC7wAcj41VjQ5qH9u25ChHWCWsER&confirm=t&uuid=7fa29bb5-f9e9-40e0-b5aa-54a49705f566\n",
            "To: /content/Image-Enhancement-using-CycleGAN/genh.pth.tar\n",
            "100% 369M/369M [00:05<00:00, 65.5MB/s]\n"
          ]
        }
      ]
    },
    {
      "cell_type": "markdown",
      "source": [
        "*3. Generator 2*"
      ],
      "metadata": {
        "id": "8C28wPOl5bXv"
      }
    },
    {
      "cell_type": "code",
      "source": [
        "!gdown --fuzzy https://drive.google.com/file/d/1p8v1WxMqORtKD6PFPePUZsDKhgahlm29/view?usp=sharing"
      ],
      "metadata": {
        "colab": {
          "base_uri": "https://localhost:8080/"
        },
        "id": "wQjkUKXF4o2a",
        "outputId": "2af415fe-6445-4c03-e196-b025c4922f33"
      },
      "execution_count": 18,
      "outputs": [
        {
          "output_type": "stream",
          "name": "stdout",
          "text": [
            "Downloading...\n",
            "From (original): https://drive.google.com/uc?id=1p8v1WxMqORtKD6PFPePUZsDKhgahlm29\n",
            "From (redirected): https://drive.google.com/uc?id=1p8v1WxMqORtKD6PFPePUZsDKhgahlm29&confirm=t&uuid=687c3d6c-6fd5-41f1-bc6d-13ed89b5ae44\n",
            "To: /content/Image-Enhancement-using-CycleGAN/genz.pth.tar\n",
            "100% 369M/369M [00:06<00:00, 54.8MB/s]\n"
          ]
        }
      ]
    },
    {
      "cell_type": "markdown",
      "source": [
        "###**Testing**"
      ],
      "metadata": {
        "id": "v6jW5Xmn6PFm"
      }
    },
    {
      "cell_type": "markdown",
      "source": [
        "*Place testing images to data/test/ folder*\n"
      ],
      "metadata": {
        "id": "hSFWyVni6aNX"
      }
    },
    {
      "cell_type": "code",
      "source": [
        "!python test.py #testing for both generator (Original to Enhanced and Enhanced to Original)"
      ],
      "metadata": {
        "id": "5YX9ZCdQ7xd4"
      },
      "execution_count": null,
      "outputs": []
    },
    {
      "cell_type": "code",
      "source": [
        "!python test2.py #testing for one generator(Original to Enhanced)"
      ],
      "metadata": {
        "colab": {
          "base_uri": "https://localhost:8080/"
        },
        "id": "csjfIKUg8KUd",
        "outputId": "c270b87a-e2fc-4bfa-8df9-45ae0cb016f6"
      },
      "execution_count": 21,
      "outputs": [
        {
          "output_type": "stream",
          "name": "stdout",
          "text": [
            "=> Loading checkpoint for testing\n",
            "=> Model weights loaded successfully for testing.\n",
            "100% 3/3 [00:00<00:00,  5.80it/s]\n",
            "Test completed successfully!\n"
          ]
        }
      ]
    }
  ]
}